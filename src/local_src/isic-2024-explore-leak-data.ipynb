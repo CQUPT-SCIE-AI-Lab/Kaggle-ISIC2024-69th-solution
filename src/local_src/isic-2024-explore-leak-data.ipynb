{
 "cells": [
  {
   "cell_type": "code",
   "execution_count": 4,
   "metadata": {},
   "outputs": [],
   "source": [
    "import pandas as pd\n",
    "from tqdm import tqdm"
   ]
  },
  {
   "cell_type": "code",
   "execution_count": 2,
   "metadata": {},
   "outputs": [
    {
     "name": "stderr",
     "output_type": "stream",
     "text": [
      "/tmp/ipykernel_2958022/1753371469.py:1: DtypeWarning: Columns (51,52) have mixed types. Specify dtype option on import or set low_memory=False.\n",
      "  train = pd.read_csv(\"/data1/hjs/pythonProject/pythonProject/ISIC2024/my_train_with_sgkfold.csv\")\n"
     ]
    }
   ],
   "source": [
    "train = pd.read_csv(\"/data1/hjs/pythonProject/pythonProject/ISIC2024/my_train_with_sgkfold.csv\")"
   ]
  },
  {
   "cell_type": "code",
   "execution_count": 12,
   "metadata": {},
   "outputs": [
    {
     "name": "stderr",
     "output_type": "stream",
     "text": [
      "100%|██████████| 401059/401059 [00:34<00:00, 11766.10it/s]\n"
     ]
    }
   ],
   "source": [
    "length = len(train)\n",
    "\n",
    "id_fold = {}\n",
    "for i in tqdm(range(length)):\n",
    "    row = train.iloc[i, :]\n",
    "    # patient_id = row.patient_id\n",
    "    isic_id = row.isic_id\n",
    "    kfold = row.kfold\n",
    "\n",
    "    if isic_id not in id_fold.keys():\n",
    "        id_fold[isic_id] = kfold\n",
    "    else:\n",
    "        if kfold != id_fold[isic_id]:\n",
    "            print(\"shit\")"
   ]
  },
  {
   "cell_type": "code",
   "execution_count": 6,
   "metadata": {},
   "outputs": [],
   "source": [
    "train_1954 = pd.read_csv(\"/data1/hjs/pythonProject/pythonProject/ISIC2024/train_1954.csv\")"
   ]
  },
  {
   "cell_type": "code",
   "execution_count": 13,
   "metadata": {},
   "outputs": [
    {
     "name": "stderr",
     "output_type": "stream",
     "text": [
      "  0%|          | 0/1954 [00:00<?, ?it/s]"
     ]
    },
    {
     "name": "stderr",
     "output_type": "stream",
     "text": [
      "100%|██████████| 1954/1954 [00:00<00:00, 12409.67it/s]\n"
     ]
    }
   ],
   "source": [
    "length = len(train_1954)\n",
    "\n",
    "for i in tqdm(range(length)):\n",
    "    row = train_1954.iloc[i, :]\n",
    "    # patient_id = row.patient_id\n",
    "    isic_id = row.isic_id\n",
    "    kfold = row.kfold\n",
    "\n",
    "    if isic_id not in id_fold.keys():\n",
    "        pass\n",
    "        # print(\"not in\")\n",
    "    else:\n",
    "        if kfold != id_fold[isic_id]:\n",
    "            print(\"shit\")"
   ]
  },
  {
   "cell_type": "code",
   "execution_count": null,
   "metadata": {},
   "outputs": [],
   "source": []
  }
 ],
 "metadata": {
  "kernelspec": {
   "display_name": "transformers",
   "language": "python",
   "name": "python3"
  },
  "language_info": {
   "codemirror_mode": {
    "name": "ipython",
    "version": 3
   },
   "file_extension": ".py",
   "mimetype": "text/x-python",
   "name": "python",
   "nbconvert_exporter": "python",
   "pygments_lexer": "ipython3",
   "version": "3.8.18"
  }
 },
 "nbformat": 4,
 "nbformat_minor": 2
}
